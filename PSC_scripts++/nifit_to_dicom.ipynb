{
 "cells": [
  {
   "cell_type": "code",
   "execution_count": null,
   "id": "2baec70a-d802-43b9-842d-2be6f25bab6a",
   "metadata": {},
   "outputs": [],
   "source": [
    "#nifit to dicom\n",
    "\n",
    "import numpy as np\n",
    "import pydicom\n",
    "from pydicom.uid import generate_uid\n",
    "from datetime import datetime\n",
    "import SimpleITK as sitk\n",
    "import os\n",
    "\n",
    "def save_heatmaps_to_dicom(heatmap_volume, output_path, patient_name=\"HeatmapPatient\", \n",
    "                           patient_id=\"HM001\", series_description=\"Heatmaps\", modality=\"OT\"):\n",
    "    if len(heatmap_volume.shape) != 3:\n",
    "        raise ValueError(f\"Expected heatmap volume to have 3 dimensions, but got {heatmap_volume.shape}\")\n",
    "\n",
    "    # dummy data\n",
    "    ds = pydicom.Dataset()\n",
    "    ds.file_meta = pydicom.Dataset()\n",
    "    ds.file_meta.TransferSyntaxUID = pydicom.uid.ExplicitVRLittleEndian\n",
    "    ds.is_little_endian = True\n",
    "    ds.is_implicit_VR = False\n",
    "    ds.PatientName = patient_name\n",
    "    ds.PatientID = patient_id\n",
    "    ds.Modality = modality\n",
    "    ds.SeriesDescription = series_description\n",
    "    ds.SeriesInstanceUID = generate_uid()\n",
    "    ds.StudyInstanceUID = generate_uid()\n",
    "    ds.SOPInstanceUID = generate_uid()\n",
    "    ds.StudyDate = datetime.now().strftime(\"%Y%m%d\")\n",
    "    ds.StudyTime = datetime.now().strftime(\"%H%M%S\")\n",
    "    ds.ContentDate = ds.StudyDate\n",
    "    ds.ContentTime = ds.StudyTime\n",
    "    ds.SamplesPerPixel = 1\n",
    "    ds.PhotometricInterpretation = \"MONOCHROME2\"\n",
    "    ds.Rows, ds.Columns = heatmap_volume.shape[1], heatmap_volume.shape[2]\n",
    "    ds.NumberOfFrames = heatmap_volume.shape[0]\n",
    "    ds.PixelRepresentation = 0  # Unsigned integer\n",
    "    ds.BitsAllocated = 16\n",
    "    ds.BitsStored = 16\n",
    "    ds.HighBit = 15\n",
    "\n",
    "    # Scale heatmap data to fit within 16-bit unsigned integer range\n",
    "    heatmap_volume = (heatmap_volume * 65535).astype(np.uint16)\n",
    "\n",
    "    # Convert the heatmap volume to a byte array and store it in PixelData\n",
    "    ds.PixelData = heatmap_volume.tobytes()\n",
    "    os.makedirs(os.path.dirname(output_path), exist_ok=True)\n",
    "    pydicom.dcmwrite(output_path, ds)\n",
    "\n",
    "    print(f\"DICOM file saved at: {output_path}\")\n",
    "nifti_path = \"/jet/home/abradsha/MEDSYN/results/img_64_standard_bulk/left_pneu_sample_1_left_heatmaps.nii.gz\"\n",
    "heatmap_volume = sitk.GetArrayFromImage(sitk.ReadImage(nifti_path))  # Assuming the file exists and is a 64x64x64 \n",
    "output_dicom_path = \"/jet/home/abradsha/MEDSYN/results/img_64_standard_bulk/heatmap_volume.dcm\"\n",
    "save_heatmaps_to_dicom(heatmap_volume, output_dicom_path)\n"
   ]
  }
 ],
 "metadata": {
  "kernelspec": {
   "display_name": "medsyn3.9++",
   "language": "python",
   "name": "medsyn3.9"
  },
  "language_info": {
   "codemirror_mode": {
    "name": "ipython",
    "version": 3
   },
   "file_extension": ".py",
   "mimetype": "text/x-python",
   "name": "python",
   "nbconvert_exporter": "python",
   "pygments_lexer": "ipython3",
   "version": "3.8.19"
  }
 },
 "nbformat": 4,
 "nbformat_minor": 5
}
