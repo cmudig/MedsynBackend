{
 "cells": [
  {
   "cell_type": "code",
   "execution_count": 1,
   "metadata": {},
   "outputs": [
    {
     "name": "stderr",
     "output_type": "stream",
     "text": [
      "/home/exouser/miniconda3/envs/medsyn-3-8/lib/python3.8/site-packages/tqdm/auto.py:21: TqdmWarning: IProgress not found. Please update jupyter and ipywidgets. See https://ipywidgets.readthedocs.io/en/stable/user_install.html\n",
      "  from .autonotebook import tqdm as notebook_tqdm\n"
     ]
    }
   ],
   "source": [
    "from extract_text import TextExtractor"
   ]
  },
  {
   "cell_type": "code",
   "execution_count": 2,
   "metadata": {},
   "outputs": [
    {
     "name": "stderr",
     "output_type": "stream",
     "text": [
      "BertForMaskedLM has generative capabilities, as `prepare_inputs_for_generation` is explicitly overwritten. However, it doesn't directly inherit from `GenerationMixin`. From 👉v4.50👈 onwards, `PreTrainedModel` will NOT inherit from `GenerationMixin`, and this model will lose the ability to call `generate` and other related functions.\n",
      "  - If you're using `trust_remote_code=True`, you can get rid of this warning by loading the model with an auto class. See https://huggingface.co/docs/transformers/en/model_doc/auto#auto-classes\n",
      "  - If you are the owner of the model architecture code, please modify your model class such that it inherits from `GenerationMixin` (after `PreTrainedModel`, otherwise you'll get an exception).\n",
      "  - If you are not the owner of the model architecture class, please contact the model code owner to update it.\n",
      "Some weights of CXRBertModel were not initialized from the model checkpoint at microsoft/BiomedVLP-CXR-BERT-specialized and are newly initialized: ['classifier.bias', 'classifier.weight']\n",
      "You should probably TRAIN this model on a down-stream task to be able to use it for predictions and inference.\n",
      "/home/exouser/MedsynBackend/src/extract_text.py:42: FutureWarning: You are using `torch.load` with `weights_only=False` (the current default value), which uses the default pickle module implicitly. It is possible to construct malicious pickle data which will execute arbitrary code during unpickling (See https://github.com/pytorch/pytorch/blob/main/SECURITY.md#untrusted-models for more details). In a future release, the default value for `weights_only` will be flipped to `True`. This limits the functions that could be executed during unpickling. Arbitrary objects will no longer be allowed to be loaded via this mode unless they are explicitly allowlisted by the user via `torch.serialization.add_safe_globals`. We recommend you start setting `weights_only=True` for any use case where you don't have full control of the loaded file. Please open an issue on GitHub for any issues related to this experimental feature.\n",
      "  ckpt = torch.load(self.resume_model+\"/pytorch_model.bin\", map_location=self.device)\n"
     ]
    },
    {
     "name": "stdout",
     "output_type": "stream",
     "text": [
      "<All keys matched successfully>\n",
      "(1, 192, 768)\n",
      "Saved to: /media/volume/gen-ai-volume/MedSyn/results/text_embed/test_k1.npy\n"
     ]
    }
   ],
   "source": [
    "impressions=\"Left pleural effusion and large pancoast tumor in right lung\"\n",
    "output_folder = \"/media/volume/gen-ai-volume/MedSyn/results/text_embed\"  \n",
    "file_name='test_k1.npy'\n",
    "text_extractor = TextExtractor(resume_model=\"/media/volume/gen-ai-volume/MedSyn/models/test_run2\")\n",
    "text_extractor.run(impressions, output_folder, file_name)"
   ]
  },
  {
   "cell_type": "code",
   "execution_count": null,
   "metadata": {},
   "outputs": [
    {
     "name": "stderr",
     "output_type": "stream",
     "text": [
      "/home/exouser/MedsynBackend/src/stage1.py:1182: FutureWarning: You are using `torch.load` with `weights_only=False` (the current default value), which uses the default pickle module implicitly. It is possible to construct malicious pickle data which will execute arbitrary code during unpickling (See https://github.com/pytorch/pytorch/blob/main/SECURITY.md#untrusted-models for more details). In a future release, the default value for `weights_only` will be flipped to `True`. This limits the functions that could be executed during unpickling. Arbitrary objects will no longer be allowed to be loaded via this mode unless they are explicitly allowlisted by the user via `torch.serialization.add_safe_globals`. We recommend you start setting `weights_only=True` for any use case where you don't have full control of the loaded file. Please open an issue on GitHub for any issues related to this experimental feature.\n",
      "  self.model.load_state_dict(torch.load(model_path, map_location=map_location), strict=False)\n",
      "/home/exouser/miniconda3/envs/medsyn-3-8/lib/python3.8/site-packages/accelerate/accelerator.py:479: FutureWarning: `torch.cuda.amp.GradScaler(args...)` is deprecated. Please use `torch.amp.GradScaler('cuda', args...)` instead.\n",
      "  self.scaler = torch.cuda.amp.GradScaler(**kwargs)\n"
     ]
    },
    {
     "name": "stdout",
     "output_type": "stream",
     "text": [
      "loading low-res model...\n",
      "File already exists: /media/volume/gen-ai-volume/MedSyn/results/img_64_standard/20250205145212nopleurale_sample_0.npy\n",
      "Pre-saved noise not found! Generating new fixed noise instead.\n",
      "Low Resolution: 100%|██████████| 51/51 [00:14<00:00,  3.52it/s]\n",
      "File already exists: /media/volume/gen-ai-volume/MedSyn/results/img_64_standard/dont_delete_sample_0.npy\n"
     ]
    }
   ],
   "source": [
    "from stage1 import run_diffusion_1\n",
    "import accelerate\n",
    "accelerate.state.AcceleratorState._shared_state.clear() # dirty hack to reset accelerator state\n",
    "run_diffusion_1(input_folder=\"/media/volume/gen-ai-volume/MedSyn/results/text_embed\", \n",
    "                output_folder= \"/media/volume/gen-ai-volume/MedSyn/results/img_64_standard\", \n",
    "                model_folder=\"/media/volume/gen-ai-volume/MedSyn/models/stage1\", \n",
    "                num_sample=1,\n",
    "                noise_folder=\"/media/volume/gen-ai-volume/MedSyn/results/img_64_standard/saved_noise/test_k1\")"
   ]
  },
  {
   "cell_type": "code",
   "execution_count": 5,
   "metadata": {},
   "outputs": [
    {
     "name": "stdout",
     "output_type": "stream",
     "text": [
      "Number of parameters: 54307908\n",
      "Map Location: cuda\n",
      "Model path: /media/volume/gen-ai-volume/MedSyn/models/stage2/1000_ckpt/pytorch_model.bin\n"
     ]
    },
    {
     "name": "stderr",
     "output_type": "stream",
     "text": [
      "/home/exouser/MedsynBackend/src/stage2.py:1110: FutureWarning: You are using `torch.load` with `weights_only=False` (the current default value), which uses the default pickle module implicitly. It is possible to construct malicious pickle data which will execute arbitrary code during unpickling (See https://github.com/pytorch/pytorch/blob/main/SECURITY.md#untrusted-models for more details). In a future release, the default value for `weights_only` will be flipped to `True`. This limits the functions that could be executed during unpickling. Arbitrary objects will no longer be allowed to be loaded via this mode unless they are explicitly allowlisted by the user via `torch.serialization.add_safe_globals`. We recommend you start setting `weights_only=True` for any use case where you don't have full control of the loaded file. Please open an issue on GitHub for any issues related to this experimental feature.\n",
      "  self.model.load_state_dict(torch.load(model_path, map_location=map_location), strict=False)\n",
      "/home/exouser/MedsynBackend/src/stage2.py:1113: FutureWarning: You are using `torch.load` with `weights_only=False` (the current default value), which uses the default pickle module implicitly. It is possible to construct malicious pickle data which will execute arbitrary code during unpickling (See https://github.com/pytorch/pytorch/blob/main/SECURITY.md#untrusted-models for more details). In a future release, the default value for `weights_only` will be flipped to `True`. This limits the functions that could be executed during unpickling. Arbitrary objects will no longer be allowed to be loaded via this mode unless they are explicitly allowlisted by the user via `torch.serialization.add_safe_globals`. We recommend you start setting `weights_only=True` for any use case where you don't have full control of the loaded file. Please open an issue on GitHub for any issues related to this experimental feature.\n",
      "  self.ema_model.load_state_dict(torch.load(model_path, map_location=map_location), strict=False)\n",
      "Loading dataset: 100%|██████████| 3/3 [00:00<00:00, 174.66it/s]\n",
      "/home/exouser/miniconda3/envs/medsyn-3-8/lib/python3.8/site-packages/accelerate/checkpointing.py:203: FutureWarning: You are using `torch.load` with `weights_only=False` (the current default value), which uses the default pickle module implicitly. It is possible to construct malicious pickle data which will execute arbitrary code during unpickling (See https://github.com/pytorch/pytorch/blob/main/SECURITY.md#untrusted-models for more details). In a future release, the default value for `weights_only` will be flipped to `True`. This limits the functions that could be executed during unpickling. Arbitrary objects will no longer be allowed to be loaded via this mode unless they are explicitly allowlisted by the user via `torch.serialization.add_safe_globals`. We recommend you start setting `weights_only=True` for any use case where you don't have full control of the loaded file. Please open an issue on GitHub for any issues related to this experimental feature.\n",
      "  state_dict = torch.load(input_model_file, map_location=map_location)\n",
      "/home/exouser/miniconda3/envs/medsyn-3-8/lib/python3.8/site-packages/accelerate/checkpointing.py:242: FutureWarning: You are using `torch.load` with `weights_only=False` (the current default value), which uses the default pickle module implicitly. It is possible to construct malicious pickle data which will execute arbitrary code during unpickling (See https://github.com/pytorch/pytorch/blob/main/SECURITY.md#untrusted-models for more details). In a future release, the default value for `weights_only` will be flipped to `True`. This limits the functions that could be executed during unpickling. Arbitrary objects will no longer be allowed to be loaded via this mode unless they are explicitly allowlisted by the user via `torch.serialization.add_safe_globals`. We recommend you start setting `weights_only=True` for any use case where you don't have full control of the loaded file. Please open an issue on GitHub for any issues related to this experimental feature.\n",
      "  states = torch.load(input_dir.joinpath(f\"{RNG_STATE_NAME}_{process_index}.pkl\"))\n"
     ]
    },
    {
     "name": "stdout",
     "output_type": "stream",
     "text": [
      "found 3 videos as gif files at /media/volume/gen-ai-volume/MedSyn/results/img_64_standard\n",
      "loading model...\n",
      "Load accelerator state: /media/volume/gen-ai-volume/MedSyn/models/stage2/1000_ckpt\n",
      "training model...\n",
      "num_samples: 1\n",
      "High Resolution: 100%|██████████| 21/21 [01:26<00:00,  4.11s/it]\n",
      "num_samples: 1\n",
      "File already exists: /media/volume/gen-ai-volume/MedSyn/results/img_256_standard/dont_delete_sample_0.nii.gz\n",
      "num_samples: 1\n",
      "File already exists: /media/volume/gen-ai-volume/MedSyn/results/img_256_standard/20250205145212nopleurale_sample_0.nii.gz\n"
     ]
    }
   ],
   "source": [
    "from stage2 import run_diffusion_2\n",
    "import accelerate\n",
    "accelerate.state.AcceleratorState._shared_state.clear() # dirty hack to reset accelerator state\n",
    "\n",
    "run_diffusion_2(input_folder=\"/media/volume/gen-ai-volume/MedSyn/results/img_64_standard\", \n",
    "                        output_folder=\"/media/volume/gen-ai-volume/MedSyn/results/img_256_standard\", \n",
    "                        model_folder=\"/media/volume/gen-ai-volume/MedSyn/models/stage2\",\n",
    "                        filename=\"20250205145212nopleurale.npy\",\n",
    "                        num_series_exists=0)"
   ]
  }
 ],
 "metadata": {
  "kernelspec": {
   "display_name": "medsyn-3-8",
   "language": "python",
   "name": "python3"
  },
  "language_info": {
   "codemirror_mode": {
    "name": "ipython",
    "version": 3
   },
   "file_extension": ".py",
   "mimetype": "text/x-python",
   "name": "python",
   "nbconvert_exporter": "python",
   "pygments_lexer": "ipython3",
   "version": "3.8.19"
  }
 },
 "nbformat": 4,
 "nbformat_minor": 2
}
