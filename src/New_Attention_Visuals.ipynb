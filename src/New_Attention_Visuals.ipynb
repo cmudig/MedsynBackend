{
 "cells": [
  {
   "cell_type": "code",
   "execution_count": 1,
   "metadata": {},
   "outputs": [
    {
     "name": "stderr",
     "output_type": "stream",
     "text": [
      "/home/exouser/miniconda3/envs/medsyn-3-8/lib/python3.8/site-packages/tqdm/auto.py:21: TqdmWarning: IProgress not found. Please update jupyter and ipywidgets. See https://ipywidgets.readthedocs.io/en/stable/user_install.html\n",
      "  from .autonotebook import tqdm as notebook_tqdm\n"
     ]
    }
   ],
   "source": [
    "from extract_text import TextExtractor"
   ]
  },
  {
   "cell_type": "code",
   "execution_count": 3,
   "metadata": {},
   "outputs": [],
   "source": [
    "impressions=\"right pleural effusion and no left pleural effusion\"\n",
    "output_folder = \"/media/volume/gen-ai-volume/MedSyn/results/text_embed\"  \n",
    "file_name='aidan_kate_test_rightpleur_noleft.npy'"
   ]
  },
  {
   "cell_type": "code",
   "execution_count": 4,
   "metadata": {},
   "outputs": [
    {
     "name": "stderr",
     "output_type": "stream",
     "text": [
      "Some weights of CXRBertModel were not initialized from the model checkpoint at microsoft/BiomedVLP-CXR-BERT-specialized and are newly initialized: ['classifier.bias', 'classifier.weight']\n",
      "You should probably TRAIN this model on a down-stream task to be able to use it for predictions and inference.\n"
     ]
    },
    {
     "name": "stdout",
     "output_type": "stream",
     "text": [
      "<All keys matched successfully>\n",
      "File already exists: /media/volume/gen-ai-volume/MedSyn/results/text_embed/aidan_kate_test_rightpleur_noleft.npy and /media/volume/gen-ai-volume/MedSyn/results/text_embed/aidan_kate_test_rightpleur_noleft_tokens.npy\n"
     ]
    }
   ],
   "source": [
    "text_extractor = TextExtractor(resume_model=\"/media/volume/gen-ai-volume/MedSyn/models/test_run2\")\n",
    "text_extractor.run(impressions, output_folder, file_name)"
   ]
  },
  {
   "cell_type": "code",
   "execution_count": 6,
   "metadata": {},
   "outputs": [
    {
     "name": "stderr",
     "output_type": "stream",
     "text": [
      "/home/exouser/MedsynBackend/src/stage1.py:1256: FutureWarning: You are using `torch.load` with `weights_only=False` (the current default value), which uses the default pickle module implicitly. It is possible to construct malicious pickle data which will execute arbitrary code during unpickling (See https://github.com/pytorch/pytorch/blob/main/SECURITY.md#untrusted-models for more details). In a future release, the default value for `weights_only` will be flipped to `True`. This limits the functions that could be executed during unpickling. Arbitrary objects will no longer be allowed to be loaded via this mode unless they are explicitly allowlisted by the user via `torch.serialization.add_safe_globals`. We recommend you start setting `weights_only=True` for any use case where you don't have full control of the loaded file. Please open an issue on GitHub for any issues related to this experimental feature.\n",
      "  self.model.load_state_dict(torch.load(model_path, map_location=map_location), strict=False)\n"
     ]
    },
    {
     "name": "stdout",
     "output_type": "stream",
     "text": [
      "Tokens file missing for dont_delete.npy\n",
      "found 1 text embedding files at /media/volume/gen-ai-volume/MedSyn/results/text_embed\n"
     ]
    },
    {
     "name": "stderr",
     "output_type": "stream",
     "text": [
      "/home/exouser/miniconda3/envs/medsyn-3-8/lib/python3.8/site-packages/accelerate/accelerator.py:479: FutureWarning: `torch.cuda.amp.GradScaler(args...)` is deprecated. Please use `torch.amp.GradScaler('cuda', args...)` instead.\n",
      "  self.scaler = torch.cuda.amp.GradScaler(**kwargs)\n"
     ]
    },
    {
     "name": "stdout",
     "output_type": "stream",
     "text": [
      "loading low-res model...\n"
     ]
    }
   ],
   "source": [
    "from stage1 import run_diffusion_1\n",
    "import accelerate\n",
    "accelerate.state.AcceleratorState._shared_state.clear() # dirty hack to reset accelerator state\n",
    "run_diffusion_1(input_folder=\"/media/volume/gen-ai-volume/MedSyn/results/text_embed\", \n",
    "                output_folder= \"/media/volume/gen-ai-volume/MedSyn/results/img_64_standard/aidan_kate_test_rightpleur_noleft\", \n",
    "                model_folder=\"/media/volume/gen-ai-volume/MedSyn/models/stage1\", \n",
    "                attention_folder=\"/media/volume/gen-ai-volume/MedSyn/results/saliency_maps/aidan_kate_test_rightpleur_noleft\",\n",
    "                dont_delete_folder=\"/media/volume/gen-ai-volume/MedSyn/results/img_64_standard\",\n",
    "                num_sample=1,\n",
    "                tokenizer=text_extractor.tokenizer,\n",
    "                noise_folder=\"/media/volume/gen-ai-volume/MedSyn/results/img_64_standard/saved_noise/aidan_kate_test_rightpleur_noleft\")"
   ]
  }
 ],
 "metadata": {
  "kernelspec": {
   "display_name": "medsyn-3-8",
   "language": "python",
   "name": "python3"
  },
  "language_info": {
   "codemirror_mode": {
    "name": "ipython",
    "version": 3
   },
   "file_extension": ".py",
   "mimetype": "text/x-python",
   "name": "python",
   "nbconvert_exporter": "python",
   "pygments_lexer": "ipython3",
   "version": "3.8.19"
  }
 },
 "nbformat": 4,
 "nbformat_minor": 2
}
