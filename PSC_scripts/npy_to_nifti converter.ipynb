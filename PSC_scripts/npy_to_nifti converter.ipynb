{
 "cells": [
  {
   "cell_type": "code",
   "execution_count": 10,
   "id": "475ec2bd-9508-47da-b84f-36b540384b2b",
   "metadata": {},
   "outputs": [
    {
     "name": "stdout",
     "output_type": "stream",
     "text": [
      "Loaded heatmap data with shape: (64, 8, 8)\n",
      "Resized heatmap volume shape: (64, 64, 64)\n",
      "NIfTI file saved at: /jet/home/abradsha/MEDSYN/results/img_64_standard_bulk/left_pneu_sample_0_effusion_heatmaps.nii.gz\n"
     ]
    }
   ],
   "source": [
    "# .npy to nifti converter\n",
    "import numpy as np\n",
    "import nibabel as nib\n",
    "from scipy.ndimage import zoom\n",
    "\n",
    "def normalize_image(image):\n",
    "    image_min = image.min()\n",
    "    image_max = image.max()\n",
    "    return (image - image_min) / (image_max - image_min + 1e-8)\n",
    "\n",
    "def resize_and_save_heatmap_to_nifti(npy_path, nifti_path, target_shape=(64, 64, 64)):\n",
    "    heatmap_data = np.load(npy_path)  # Expected shape: (64, 8, 8)\n",
    "    print(f\"Loaded heatmap shape: {heatmap_data.shape}\")\n",
    "\n",
    "    if heatmap_data.shape[1:] != (8, 8):\n",
    "        raise ValueError(f\"need shape (8, 8), but got {heatmap_data.shape[1:]}\")\n",
    "\n",
    "    resized_volume = []\n",
    "    for slice_idx in range(heatmap_data.shape[0]):\n",
    "        heatmap_slice = heatmap_data[slice_idx, :, :]  \n",
    "        heatmap_slice_norm = normalize_image(heatmap_slice)\n",
    "        # make viewer happy\n",
    "        zoom_factors = (\n",
    "            target_shape[1] / heatmap_slice.shape[0],  # Height scaling\n",
    "            target_shape[2] / heatmap_slice.shape[1],  # Width scaling\n",
    "        )\n",
    "        resized_slice = zoom(heatmap_slice_norm, zoom_factors, order=1)  # Bilinear interpolation\n",
    "        resized_volume.append(resized_slice)\n",
    "\n",
    "    resized_volume = np.stack(resized_volume, axis=0)  # Shape: (64, 64, 64)\n",
    "    print(f\"Resized heatmap volume shape: {resized_volume.shape}\")\n",
    "\n",
    "    nifti_img = nib.Nifti1Image(resized_volume, affine=np.eye(4))\n",
    "\n",
    "    nib.save(nifti_img, nifti_path)\n",
    "    print(f\"NIfTI file saved at: {nifti_path}\")\n",
    "\n",
    "npy_input_path = \"/jet/home/abradsha/MEDSYN/results/img_64_standard_bulk/left_pneu_sample_0.npy_token_3_effusion_heatmaps.npy\"\n",
    "nifti_output_path = \"/jet/home/abradsha/MEDSYN/results/img_64_standard_bulk/left_pneu_sample_0_effusion_heatmaps.nii.gz\"\n",
    "\n",
    "resize_and_save_heatmap_to_nifti(npy_input_path, nifti_output_path)\n"
   ]
  },
  {
   "cell_type": "code",
   "execution_count": 11,
   "id": "6e3d9a74-7fbe-4e3f-a69d-1c9ccc3242a0",
   "metadata": {},
   "outputs": [
    {
     "name": "stdout",
     "output_type": "stream",
     "text": [
      "Loaded heatmap shape: (64, 8, 8)\n",
      "Resized heatmap volume shape: (64, 64, 64)\n",
      "NIfTI file saved at: /jet/home/abradsha/MEDSYN/results/img_64_standard_bulk/left_pneu_sample_1_left_heatmaps.nii.gz\n"
     ]
    }
   ],
   "source": [
    "import numpy as np\n",
    "import SimpleITK as sitk\n",
    "from scipy.ndimage import zoom\n",
    "import os\n",
    "\n",
    "def normalize_image(image):\n",
    "    image_min = image.min()\n",
    "    image_max = image.max()\n",
    "    return (image - image_min) / (image_max - 1e-8)  # Avoid division by zero\n",
    "\n",
    "def resize_and_save_heatmap_to_nifti(npy_path, output_dir, output_postfix, target_shape=(64, 64, 64)):\n",
    "    os.makedirs(output_dir, exist_ok=True)\n",
    "\n",
    "    heatmap_data = np.load(npy_path)  # Expected shape: (64, 8, 8)\n",
    "    print(f\"Loaded heatmap shape: {heatmap_data.shape}\")\n",
    "\n",
    "    if heatmap_data.shape[1:] != (8, 8):\n",
    "        raise ValueError(f\"Expected heatmap slices to have shape (8, 8), but got {heatmap_data.shape[1:]}\")\n",
    "\n",
    "    resized_volume = []\n",
    "    for slice_idx in range(heatmap_data.shape[0]):\n",
    "        heatmap_slice = heatmap_data[slice_idx, :, :]  # Extract individual slice\n",
    "        heatmap_slice_norm = normalize_image(heatmap_slice)  # Normalize slice\n",
    "\n",
    "        # Bilinear interpolation to resize\n",
    "        zoom_factors = (\n",
    "            target_shape[1] / heatmap_slice.shape[0],  # Height scaling\n",
    "            target_shape[2] / heatmap_slice.shape[1],  # Width scaling\n",
    "        )\n",
    "        resized_slice = zoom(heatmap_slice_norm, zoom_factors, order=1)  # Bilinear interpolation\n",
    "        resized_volume.append(resized_slice)\n",
    "\n",
    "    resized_volume = np.stack(resized_volume, axis=0)  # Shape: (64, 64, 64)\n",
    "    print(f\"Resized heatmap volume shape: {resized_volume.shape}\")\n",
    "    nifti_img = sitk.GetImageFromArray(resized_volume)\n",
    "    output_path = os.path.join(output_dir, f\"{output_postfix}.nii.gz\")\n",
    "    sitk.WriteImage(nifti_img, output_path)\n",
    "    print(f\"NIfTI file saved at: {output_path}\")\n",
    "npy_input_path = \"/jet/home/abradsha/MEDSYN/results/img_64_standard_bulk/left_pneu_sample_0.npy_token_1_left_heatmaps.npy\"\n",
    "output_dir = \"/jet/home/abradsha/MEDSYN/results/img_64_standard_bulk/\"\n",
    "output_postfix = \"left_pneu_sample_1_left_heatmaps\"\n",
    "\n",
    "resize_and_save_heatmap_to_nifti(npy_input_path, output_dir, output_postfix)\n"
   ]
  },
  {
   "cell_type": "code",
   "execution_count": 2,
   "id": "9a94a74a-7990-48a3-ad15-727eec7f97a5",
   "metadata": {},
   "outputs": [
    {
     "name": "stdout",
     "output_type": "stream",
     "text": [
      "DICOM file saved at: /jet/home/abradsha/MEDSYN/results/img_64_standard_bulk/heatmap_volume.dcm\n"
     ]
    }
   ],
   "source": [
    "#nifit to dicom\n",
    "\n",
    "import numpy as np\n",
    "import pydicom\n",
    "from pydicom.uid import generate_uid\n",
    "from datetime import datetime\n",
    "import SimpleITK as sitk\n",
    "import os\n",
    "\n",
    "def save_heatmaps_to_dicom(heatmap_volume, output_path, patient_name=\"HeatmapPatient\", \n",
    "                           patient_id=\"HM001\", series_description=\"Heatmaps\", modality=\"OT\"):\n",
    "    if len(heatmap_volume.shape) != 3:\n",
    "        raise ValueError(f\"Expected heatmap volume to have 3 dimensions, but got {heatmap_volume.shape}\")\n",
    "\n",
    "    # dummy data\n",
    "    ds = pydicom.Dataset()\n",
    "    ds.file_meta = pydicom.Dataset()\n",
    "    ds.file_meta.TransferSyntaxUID = pydicom.uid.ExplicitVRLittleEndian\n",
    "    ds.is_little_endian = True\n",
    "    ds.is_implicit_VR = False\n",
    "    ds.PatientName = patient_name\n",
    "    ds.PatientID = patient_id\n",
    "    ds.Modality = modality\n",
    "    ds.SeriesDescription = series_description\n",
    "    ds.SeriesInstanceUID = generate_uid()\n",
    "    ds.StudyInstanceUID = generate_uid()\n",
    "    ds.SOPInstanceUID = generate_uid()\n",
    "    ds.StudyDate = datetime.now().strftime(\"%Y%m%d\")\n",
    "    ds.StudyTime = datetime.now().strftime(\"%H%M%S\")\n",
    "    ds.ContentDate = ds.StudyDate\n",
    "    ds.ContentTime = ds.StudyTime\n",
    "    ds.SamplesPerPixel = 1\n",
    "    ds.PhotometricInterpretation = \"MONOCHROME2\"\n",
    "    ds.Rows, ds.Columns = heatmap_volume.shape[1], heatmap_volume.shape[2]\n",
    "    ds.NumberOfFrames = heatmap_volume.shape[0]\n",
    "    ds.PixelRepresentation = 0  # Unsigned integer\n",
    "    ds.BitsAllocated = 16\n",
    "    ds.BitsStored = 16\n",
    "    ds.HighBit = 15\n",
    "\n",
    "    # Scale heatmap data to fit within 16-bit unsigned integer range\n",
    "    heatmap_volume = (heatmap_volume * 65535).astype(np.uint16)\n",
    "\n",
    "    # Convert the heatmap volume to a byte array and store it in PixelData\n",
    "    ds.PixelData = heatmap_volume.tobytes()\n",
    "    os.makedirs(os.path.dirname(output_path), exist_ok=True)\n",
    "    pydicom.dcmwrite(output_path, ds)\n",
    "\n",
    "    print(f\"DICOM file saved at: {output_path}\")\n",
    "nifti_path = \"/jet/home/abradsha/MEDSYN/results/img_64_standard_bulk/left_pneu_sample_1_left_heatmaps.nii.gz\"\n",
    "heatmap_volume = sitk.GetArrayFromImage(sitk.ReadImage(nifti_path))  # Assuming the file exists and is a 64x64x64 \n",
    "output_dicom_path = \"/jet/home/abradsha/MEDSYN/results/img_64_standard_bulk/heatmap_volume.dcm\"\n",
    "save_heatmaps_to_dicom(heatmap_volume, output_dicom_path)\n"
   ]
  },
  {
   "cell_type": "code",
   "execution_count": null,
   "id": "0cc12bfa-6445-4625-af99-8e1da5422b8d",
   "metadata": {},
   "outputs": [],
   "source": []
  }
 ],
 "metadata": {
  "kernelspec": {
   "display_name": "medsyn3.9++",
   "language": "python",
   "name": "medsyn3.9"
  },
  "language_info": {
   "codemirror_mode": {
    "name": "ipython",
    "version": 3
   },
   "file_extension": ".py",
   "mimetype": "text/x-python",
   "name": "python",
   "nbconvert_exporter": "python",
   "pygments_lexer": "ipython3",
   "version": "3.8.19"
  }
 },
 "nbformat": 4,
 "nbformat_minor": 5
}
